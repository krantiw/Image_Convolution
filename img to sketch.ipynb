{
 "cells": [
  {
   "cell_type": "code",
   "execution_count": null,
   "metadata": {},
   "outputs": [],
   "source": [
    "#get image loaction\n",
    "import cv2\n",
    "imgloc= \"C:/Users/user/Desktop/\"\n",
    "filename='official_pic.jpg'\n",
    "img= cv2.imread(imgloc+filename)\n",
    "\n",
    "\n",
    "#gray image\n",
    "gray= cv2.cvtColor(img, cv2.COLOR_BGRA2GRAY)\n",
    "\n",
    "\n",
    "#invert gray image/ film copy\n",
    "inv_gray= 255-gray\n",
    "\n",
    "#blur image\n",
    "blur= cv2.GaussianBlur(inv_gray, (21,21), 0)\n",
    "\n",
    "#inv_blur\n",
    "blur_inv= 255- blur\n",
    "\n",
    "sketch= cv2.divide(gray,blur_inv,scale=256.0)\n",
    "cv2.imshow('gray',gray)\n",
    "cv2.imshow('blur_inverted',blur_inv)\n",
    "cv2.imshow('sketch',sketch)\n",
    "cv2.waitKey(0)"
   ]
  },
  {
   "cell_type": "code",
   "execution_count": null,
   "metadata": {},
   "outputs": [],
   "source": []
  },
  {
   "cell_type": "code",
   "execution_count": 31,
   "metadata": {},
   "outputs": [
    {
     "data": {
      "text/plain": [
       "-1"
      ]
     },
     "execution_count": 31,
     "metadata": {},
     "output_type": "execute_result"
    }
   ],
   "source": [
    "# gray= cv2.cvtColor(img, cv2.COLOR_BGR2GRAY  )\n",
    "# cv2.imshow('MODIFIED',gray)\n",
    "# cv2.imshow('original',img)\n",
    "# cv2.waitKey(0)"
   ]
  },
  {
   "cell_type": "code",
   "execution_count": 32,
   "metadata": {},
   "outputs": [
    {
     "data": {
      "text/plain": [
       "-1"
      ]
     },
     "execution_count": 32,
     "metadata": {},
     "output_type": "execute_result"
    }
   ],
   "source": [
    "# #invert the gray image\n",
    "# inv_gray= 255- gray\n",
    "# cv2.imshow('Inverted',inv_gray)\n",
    "# cv2.imshow('MODIFIED',gray)\n",
    "# cv2.imshow('original',img)\n",
    "# cv2.waitKey(0)"
   ]
  },
  {
   "cell_type": "code",
   "execution_count": 33,
   "metadata": {},
   "outputs": [
    {
     "data": {
      "text/plain": [
       "-1"
      ]
     },
     "execution_count": 33,
     "metadata": {},
     "output_type": "execute_result"
    }
   ],
   "source": [
    "# #blurr  image\n",
    "# blur= cv2.GaussianBlur(inv_gray, (21,21), 0)\n",
    "# #invert the blurr image\n",
    "# inv_blur =255- blur\n",
    "\n",
    "# #pencil sketch\n",
    "# pencil_sketch= cv2.divide(gray,inv_blur, scale= 256.0)\n",
    "# cv2.imshow('pencil_sketch',pencil_sketch)\n",
    "# cv2.imshow('original',img)\n",
    "\n",
    "# #cv2.imshow('Invblur',inv_blur)\n",
    "# #cv2.imshow('Blurred',blur)\n",
    "\n",
    "# cv2.waitKey(0)"
   ]
  }
 ],
 "metadata": {
  "kernelspec": {
   "display_name": "Python 3",
   "language": "python",
   "name": "python3"
  },
  "language_info": {
   "codemirror_mode": {
    "name": "ipython",
    "version": 3
   },
   "file_extension": ".py",
   "mimetype": "text/x-python",
   "name": "python",
   "nbconvert_exporter": "python",
   "pygments_lexer": "ipython3",
   "version": "3.8.3"
  }
 },
 "nbformat": 4,
 "nbformat_minor": 4
}
