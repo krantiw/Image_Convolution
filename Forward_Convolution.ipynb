{
 "cells": [
  {
   "cell_type": "code",
   "execution_count": 2,
   "metadata": {},
   "outputs": [],
   "source": [
    "import tensorflow as tf"
   ]
  },
  {
   "cell_type": "code",
   "execution_count": 17,
   "metadata": {
    "scrolled": false
   },
   "outputs": [
    {
     "data": {
      "text/plain": [
       "<tf.Tensor: shape=(1, 4, 1), dtype=float32, numpy=\n",
       "array([[[-0.19545522],\n",
       "        [-0.14027552],\n",
       "        [ 0.09213017],\n",
       "        [ 0.4476665 ]]], dtype=float32)>"
      ]
     },
     "execution_count": 17,
     "metadata": {},
     "output_type": "execute_result"
    }
   ],
   "source": [
    "n= tf.random.normal((1,4,1)) #batch size =1 and vector of 4X1 of normal distribution\n",
    "n"
   ]
  },
  {
   "cell_type": "code",
   "execution_count": 47,
   "metadata": {},
   "outputs": [
    {
     "data": {
      "text/plain": [
       "<tensorflow.python.keras.layers.convolutional.Conv1D at 0x14ef918b3d0>"
      ]
     },
     "execution_count": 47,
     "metadata": {},
     "output_type": "execute_result"
    }
   ],
   "source": [
    "#create 1D convolution\n",
    "# We dont need to specify the no. of input channels since we dont have control over it and is fixed.\n",
    "#All we have control over is the Output channel, the height and width\n",
    "# here output channel is 1 and of vector 3X1\n",
    "#padding= VALID that means No padding, bias is 0\n",
    "conv1= tf.keras.layers.Conv1D(1,3,1, \"VALID\", activation = None , bias_initializer= tf.keras.initializers.Constant(0))\n",
    "conv1  "
   ]
  },
  {
   "cell_type": "code",
   "execution_count": 16,
   "metadata": {},
   "outputs": [
    {
     "data": {
      "text/plain": [
       "<tf.Tensor: shape=(1, 2, 1), dtype=float32, numpy=\n",
       "array([[[ 0.78645515],\n",
       "        [-0.6544697 ]]], dtype=float32)>"
      ]
     },
     "execution_count": 16,
     "metadata": {},
     "output_type": "execute_result"
    }
   ],
   "source": [
    "conv1(n)"
   ]
  },
  {
   "cell_type": "markdown",
   "metadata": {},
   "source": [
    "# 2D convolution array of 16X16"
   ]
  },
  {
   "cell_type": "code",
   "execution_count": 25,
   "metadata": {},
   "outputs": [
    {
     "data": {
      "text/plain": [
       "TensorShape([1, 16, 16, 1])"
      ]
     },
     "execution_count": 25,
     "metadata": {},
     "output_type": "execute_result"
    }
   ],
   "source": [
    "#batch size=1, array= !6X16, no.of channels=1\n",
    "k= tf.random.normal((1,16,16,1))\n",
    "k.shape"
   ]
  },
  {
   "cell_type": "code",
   "execution_count": 117,
   "metadata": {},
   "outputs": [
    {
     "data": {
      "text/plain": [
       "<tensorflow.python.keras.layers.convolutional.Conv2D at 0x14ef8779220>"
      ]
     },
     "execution_count": 117,
     "metadata": {},
     "output_type": "execute_result"
    }
   ],
   "source": [
    "# output channels=8,kernel size=5X5 and stride=1\n",
    "conv2= tf.keras.layers.Conv2D(8,[5,5],1, \"VALID\", activation = None )\n",
    "conv2"
   ]
  },
  {
   "cell_type": "code",
   "execution_count": 118,
   "metadata": {},
   "outputs": [
    {
     "data": {
      "text/plain": [
       "<tf.Tensor: shape=(1, 12, 12, 8), dtype=float32, numpy=\n",
       "array([[[[-0.7359458 ,  0.682473  ,  0.5238389 , ..., -0.15073946,\n",
       "          -0.6179685 , -0.10726426],\n",
       "         [ 0.3113655 , -0.03446725,  0.43872544, ...,  0.0293614 ,\n",
       "          -0.18156742, -0.39470005],\n",
       "         [-0.00369764,  0.28586295, -0.43836302, ...,  0.61517984,\n",
       "           0.27508357,  0.52933884],\n",
       "         ...,\n",
       "         [-0.337543  , -0.16323747,  0.48332268, ...,  0.08462258,\n",
       "          -0.079835  ,  0.08617   ],\n",
       "         [-0.19489881,  0.5855575 , -0.19334194, ..., -0.16396515,\n",
       "          -0.35188255,  0.12680697],\n",
       "         [ 0.74555737, -0.0536602 ,  0.44061542, ...,  0.5481328 ,\n",
       "          -0.40377113,  0.17531373]],\n",
       "\n",
       "        [[-0.54463667, -0.13020366,  0.14149554, ...,  0.39976197,\n",
       "           0.3480736 , -0.27686903],\n",
       "         [-0.11177614,  0.81490225,  0.92958707, ...,  0.27879465,\n",
       "          -0.27605283, -0.40693936],\n",
       "         [ 0.3808675 ,  0.03255089,  0.83450323, ...,  0.1723101 ,\n",
       "          -0.80531496, -0.05810413],\n",
       "         ...,\n",
       "         [ 0.03796306,  0.55092156, -0.24137801, ...,  0.37621382,\n",
       "          -0.2872135 ,  0.6023142 ],\n",
       "         [ 0.07189014, -0.00422404,  0.2991397 , ..., -0.09891335,\n",
       "          -0.1994523 , -0.3713783 ],\n",
       "         [ 0.19647874, -0.00366639,  1.1460876 , ...,  0.18099385,\n",
       "          -0.14126177, -0.28486028]],\n",
       "\n",
       "        [[ 0.2772796 , -0.14428657, -1.2184095 , ..., -0.30746952,\n",
       "           0.02634976,  0.44912544],\n",
       "         [ 0.3909635 ,  0.07024138, -0.7184974 , ...,  0.02919675,\n",
       "           0.777058  ,  0.3553372 ],\n",
       "         [-0.08255865, -0.12424383, -0.17121026, ...,  0.1173564 ,\n",
       "           0.29086822, -0.10749823],\n",
       "         ...,\n",
       "         [ 0.24222584,  0.02022251, -0.628911  , ..., -0.19316918,\n",
       "          -0.00585047,  0.40513903],\n",
       "         [ 0.7627251 , -0.7412478 , -0.8760836 , ..., -0.36293608,\n",
       "          -0.24026665,  0.45219794],\n",
       "         [-0.39470816,  0.15397379, -0.38135645, ...,  0.20245221,\n",
       "           0.18029273, -0.01709025]],\n",
       "\n",
       "        ...,\n",
       "\n",
       "        [[-0.8688499 , -0.33493674,  0.23979354, ...,  0.28670594,\n",
       "          -0.26460078, -0.27227738],\n",
       "         [ 0.00562398, -0.43433073,  0.18236908, ...,  0.14087746,\n",
       "           0.13203384, -0.17558643],\n",
       "         [ 0.03153639,  0.33972585, -1.0701033 , ..., -0.05782945,\n",
       "           0.04939008,  0.34803602],\n",
       "         ...,\n",
       "         [-0.02737154, -0.13539653,  0.43595865, ..., -0.3679597 ,\n",
       "           0.08371123, -0.5708543 ],\n",
       "         [-0.2949423 , -0.28415403, -0.6109811 , ..., -0.01229428,\n",
       "           0.04879246, -0.12999754],\n",
       "         [-0.09950322, -0.2917848 , -0.33943197, ...,  0.23499125,\n",
       "          -0.200511  , -0.13394016]],\n",
       "\n",
       "        [[-1.4580488 ,  0.5779808 ,  0.11524693, ...,  0.3593167 ,\n",
       "          -0.8372708 , -0.14996628],\n",
       "         [ 0.63371193, -0.6938844 ,  0.3679696 , ...,  0.25261134,\n",
       "          -0.38065863, -0.263263  ],\n",
       "         [ 0.36041188, -0.03682993,  0.35194167, ..., -0.58228433,\n",
       "          -0.3158206 ,  0.5053715 ],\n",
       "         ...,\n",
       "         [-0.504404  , -0.44311205, -0.3501981 , ..., -0.38170195,\n",
       "           0.27315876, -0.74422574],\n",
       "         [-0.35663724, -1.1368269 , -0.10952394, ...,  0.19937114,\n",
       "          -0.458343  , -0.2545503 ],\n",
       "         [-0.20032375, -1.2760458 , -0.05027683, ..., -0.93860227,\n",
       "           0.00468839, -0.02426186]],\n",
       "\n",
       "        [[-0.2374788 , -0.6753612 , -0.28517136, ...,  0.5952512 ,\n",
       "           1.2509915 , -0.4057928 ],\n",
       "         [ 0.2268385 ,  0.66106135, -0.67082834, ..., -0.99755627,\n",
       "          -0.3915469 ,  0.39043033],\n",
       "         [ 0.6405587 , -0.42421564, -0.33978996, ...,  0.11894968,\n",
       "           0.578493  , -0.23947488],\n",
       "         ...,\n",
       "         [ 0.13388035,  0.0218232 ,  0.06140244, ...,  0.12751362,\n",
       "          -0.3890144 ,  0.42857784],\n",
       "         [-0.8449849 , -0.39419222,  0.34311676, ..., -0.16632284,\n",
       "           0.13259208, -0.4462499 ],\n",
       "         [-0.60240084, -0.398324  ,  0.7442779 , ...,  0.9482942 ,\n",
       "          -0.27817073, -0.27175996]]]], dtype=float32)>"
      ]
     },
     "execution_count": 118,
     "metadata": {},
     "output_type": "execute_result"
    }
   ],
   "source": [
    "m=conv2(k)\n",
    "m"
   ]
  },
  {
   "cell_type": "code",
   "execution_count": 119,
   "metadata": {},
   "outputs": [
    {
     "data": {
      "text/plain": [
       "TensorShape([1, 12, 12, 8])"
      ]
     },
     "execution_count": 119,
     "metadata": {},
     "output_type": "execute_result"
    }
   ],
   "source": [
    "m.shape"
   ]
  },
  {
   "cell_type": "code",
   "execution_count": 120,
   "metadata": {},
   "outputs": [
    {
     "data": {
      "text/plain": [
       "TensorShape([5, 5, 1, 8])"
      ]
     },
     "execution_count": 120,
     "metadata": {},
     "output_type": "execute_result"
    }
   ],
   "source": [
    "conv2.weights[0].shape\n",
    "# kernel size, input channel, output channel  "
   ]
  },
  {
   "cell_type": "code",
   "execution_count": 121,
   "metadata": {},
   "outputs": [
    {
     "data": {
      "text/plain": [
       "TensorShape([8])"
      ]
     },
     "execution_count": 121,
     "metadata": {},
     "output_type": "execute_result"
    }
   ],
   "source": [
    "# the value of bias \n",
    "conv2.weights[1].shape"
   ]
  },
  {
   "cell_type": "markdown",
   "metadata": {},
   "source": [
    "# lets take a example with bias"
   ]
  },
  {
   "cell_type": "code",
   "execution_count": 49,
   "metadata": {},
   "outputs": [],
   "source": [
    "I= tf.constant([[[[1,-2],[2,1],[-2,3],[-1,2]],\n",
    "                 [[2,2],[3,-2],[3,1],[-4,2]],\n",
    "                 [[3,0],[-2,-2],[2,-1],[5,-2]],\n",
    "                 [[0,0],[1,-1],[3,1],[0,1]]]])"
   ]
  },
  {
   "cell_type": "code",
   "execution_count": 50,
   "metadata": {},
   "outputs": [
    {
     "data": {
      "text/plain": [
       "TensorShape([1, 4, 4, 2])"
      ]
     },
     "execution_count": 50,
     "metadata": {},
     "output_type": "execute_result"
    }
   ],
   "source": [
    "I.shape \n",
    "#channels=2"
   ]
  },
  {
   "cell_type": "code",
   "execution_count": 122,
   "metadata": {},
   "outputs": [],
   "source": [
    "# setting kernel with output channels=2,kernel size=2X2 and stride=1\n",
    "#set bias =[1,2] and set kernel, data type is int\n",
    "conv= tf.keras.layers.Conv2D(2,[2,2],1, \"VALID\", activation = None, \n",
    "    bias_initializer= tf.keras.initializers.Constant([1,2]),\n",
    "    kernel_initializer=tf.keras.initializers.Constant([[[[1,-2],[-2,1]],\n",
    "                                                         [[1,0],[0,1]]],\n",
    "                                                         [[[3,1],[2,2]],\n",
    "                                                         [[0,0], [0,4]]]]), dtype='int32')\n",
    "\n"
   ]
  },
  {
   "cell_type": "code",
   "execution_count": 112,
   "metadata": {},
   "outputs": [
    {
     "data": {
      "text/plain": [
       "<tf.Tensor: shape=(1, 3, 3, 2), dtype=int32, numpy=\n",
       "array([[[[ 18,  -3],\n",
       "         [  4,   5],\n",
       "         [  3,  24]],\n",
       "\n",
       "        [[ 11,  -7],\n",
       "         [  1, -15],\n",
       "         [  2,  -9]],\n",
       "\n",
       "        [[  2, -10],\n",
       "         [  6,   6],\n",
       "         [ 21,   4]]]])>"
      ]
     },
     "execution_count": 112,
     "metadata": {},
     "output_type": "execute_result"
    }
   ],
   "source": [
    "T= conv(I)\n",
    "T\n"
   ]
  },
  {
   "cell_type": "code",
   "execution_count": null,
   "metadata": {},
   "outputs": [],
   "source": []
  }
 ],
 "metadata": {
  "kernelspec": {
   "display_name": "Python 3",
   "language": "python",
   "name": "python3"
  },
  "language_info": {
   "codemirror_mode": {
    "name": "ipython",
    "version": 3
   },
   "file_extension": ".py",
   "mimetype": "text/x-python",
   "name": "python",
   "nbconvert_exporter": "python",
   "pygments_lexer": "ipython3",
   "version": "3.8.3"
  }
 },
 "nbformat": 4,
 "nbformat_minor": 4
}
